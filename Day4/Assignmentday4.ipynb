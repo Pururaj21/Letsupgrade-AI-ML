{
 "cells": [
  {
   "cell_type": "markdown",
   "metadata": {},
   "source": [
    "Research on whether addition, subtraction, multiplication, division, floor division and modulo\n",
    "operations be performed on complex numbers. Based on your study, implement a Python\n",
    "program to demonstrate these operations."
   ]
  },
  {
   "cell_type": "code",
   "execution_count": 5,
   "metadata": {},
   "outputs": [
    {
     "name": "stdout",
     "output_type": "stream",
     "text": [
      "Enter first number:5-3j\n",
      "Enter second number:9+4j\n",
      "Addition is: (14+1j)\n",
      "Subtraction is: (-4-7j)\n",
      "Multiplication is: (57-7j)\n",
      "Division is: (0.3402061855670103-0.4845360824742268j)\n"
     ]
    }
   ],
   "source": [
    "#Yes addition, multiplication ,subtraction & division can be performed on comples numbers.\n",
    "num1=complex(input(\"Enter first number:\"))\n",
    "num2=complex(input(\"Enter second number:\"))\n",
    "print(\"Addition is:\",num1+num2)\n",
    "print(\"Subtraction is:\",num1-num2)\n",
    "print(\"Multiplication is:\",num1*num2)\n",
    "print(\"Division is:\",num1/num2)"
   ]
  },
  {
   "cell_type": "markdown",
   "metadata": {},
   "source": [
    "# Range function:\n",
    "Range function has 3 parameters- start,stop & step\n",
    "range(start,stop,step)\n",
    "Only integers can be used as agruments not float or string.\n",
    "The use of range function can be seen in the following solved assignment problems."
   ]
  },
  {
   "cell_type": "markdown",
   "metadata": {},
   "source": [
    "   Subtraction of 2 numbers & if subtaction value is greater than 25 print multiplicstion or else print division. "
   ]
  },
  {
   "cell_type": "code",
   "execution_count": 2,
   "metadata": {},
   "outputs": [
    {
     "name": "stdout",
     "output_type": "stream",
     "text": [
      "Enter first number:5\n",
      "Enter second number:6\n",
      "0.8333333333333334\n"
     ]
    }
   ],
   "source": [
    "a=float(input(\"Enter first number:\"))\n",
    "b=float(input(\"Enter second number:\"))\n",
    "if (a-b)>25:\n",
    "    print(a*b)\n",
    "else:\n",
    "    print(a/b)"
   ]
  },
  {
   "cell_type": "markdown",
   "metadata": {},
   "source": [
    "Consider a list of 10 integers. if the number in list is divsible by 2 print square of that numberminus 2  "
   ]
  },
  {
   "cell_type": "code",
   "execution_count": 4,
   "metadata": {},
   "outputs": [
    {
     "name": "stdout",
     "output_type": "stream",
     "text": [
      "Enter 10 integers:\n",
      "1\n",
      "2\n",
      "3\n",
      "4\n",
      "5\n",
      "6\n",
      "7\n",
      "8\n",
      "9\n",
      "10\n",
      "Result: 2\n",
      "Result: 14\n",
      "Result: 34\n",
      "Result: 62\n",
      "Result: 98\n"
     ]
    }
   ],
   "source": [
    "lst = []\n",
    "print(\"Enter 10 integers:\")\n",
    "for i in range(0,10):\n",
    "    e=int(input())\n",
    "    lst.append(e)\n",
    "i=0\n",
    "for i in range(0,10):\n",
    "    a=int(lst[i]%2)\n",
    "    b=int(lst[i])\n",
    "    if a==0:\n",
    "        print(\"Result:\",(b*b)-2)\n",
    "    "
   ]
  },
  {
   "cell_type": "markdown",
   "metadata": {},
   "source": [
    "consider a list of 10 integers.Print all the elements in the list which are greater than 7 when that\n",
    "number is divided 2."
   ]
  },
  {
   "cell_type": "code",
   "execution_count": 3,
   "metadata": {},
   "outputs": [
    {
     "name": "stdout",
     "output_type": "stream",
     "text": [
      "Enter 10 integers:\n",
      "70\n",
      "4\n",
      "6\n",
      "8\n",
      "9\n",
      "10\n",
      "490\n",
      "20\n",
      "30\n",
      "11\n",
      "Element: 70\n",
      "Element: 490\n",
      "Element: 20\n",
      "Element: 30\n"
     ]
    }
   ],
   "source": [
    "lst = []\n",
    "print(\"Enter 10 integers:\")\n",
    "for i in range(0,10):\n",
    "    e=int(input())\n",
    "    lst.append(e)\n",
    "i=0\n",
    "for i in range(0,10):\n",
    "    a=int(lst[i]/2)\n",
    "    b=int(lst[i])\n",
    "    if a>7:\n",
    "        print(\"Element:\",b)"
   ]
  }
 ],
 "metadata": {
  "kernelspec": {
   "display_name": "Python 3",
   "language": "python",
   "name": "python3"
  },
  "language_info": {
   "codemirror_mode": {
    "name": "ipython",
    "version": 3
   },
   "file_extension": ".py",
   "mimetype": "text/x-python",
   "name": "python",
   "nbconvert_exporter": "python",
   "pygments_lexer": "ipython3",
   "version": "3.7.6"
  }
 },
 "nbformat": 4,
 "nbformat_minor": 4
}
