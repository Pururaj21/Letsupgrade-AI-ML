{
  "nbformat": 4,
  "nbformat_minor": 0,
  "metadata": {
    "colab": {
      "name": "Assignmentday5.ipynb",
      "provenance": [],
      "collapsed_sections": []
    },
    "kernelspec": {
      "name": "python3",
      "display_name": "Python 3"
    }
  },
  "cells": [
    {
      "cell_type": "markdown",
      "metadata": {
        "id": "Ew7nT_uc47YI",
        "colab_type": "text"
      },
      "source": [
        "Write a Python program to implement 15 functions of string"
      ]
    },
    {
      "cell_type": "code",
      "metadata": {
        "id": "0mh5V-9Q4sBN",
        "colab_type": "code",
        "colab": {
          "base_uri": "https://localhost:8080/",
          "height": 268
        },
        "outputId": "076a154a-9da4-4822-84ab-336c28b13fd5"
      },
      "source": [
        "str1=\"Hello everyone.I am Puru.\"\n",
        "print(str1.lower())\n",
        "print(str1.capitalize())\n",
        "print(str1.replace(\" \",\"\"))\n",
        "print(str1.isdigit())\n",
        "print(str1.isalpha())\n",
        "print(str1.isnumeric())\n",
        "print(str1.title())\n",
        "print(str1.split())\n",
        "print(str1.swapcase())\n",
        "print(str1.upper())\n",
        "print(str1.isspace())\n",
        "print(str1.strip())\n",
        "print(str1.count(\"l\"))\n",
        "print(str1.expandtabs())\n",
        "print(str1.isupper())"
      ],
      "execution_count": 15,
      "outputs": [
        {
          "output_type": "stream",
          "text": [
            "hello everyone.i am puru.\n",
            "Hello everyone.i am puru.\n",
            "Helloeveryone.IamPuru.\n",
            "False\n",
            "False\n",
            "False\n",
            "Hello Everyone.I Am Puru.\n",
            "['Hello', 'everyone.I', 'am', 'Puru.']\n",
            "hELLO EVERYONE.i AM pURU.\n",
            "HELLO EVERYONE.I AM PURU.\n",
            "False\n",
            "Hello everyone.I am Puru.\n",
            "2\n",
            "Hello everyone.I am Puru.\n",
            "False\n"
          ],
          "name": "stdout"
        }
      ]
    },
    {
      "cell_type": "markdown",
      "metadata": {
        "id": "fFsq_I-xBB73",
        "colab_type": "text"
      },
      "source": [
        "Write a Python program to check if the given string is a Palindrome or None of them.\n",
        "Display the message accordingly to the user."
      ]
    },
    {
      "cell_type": "code",
      "metadata": {
        "id": "xVLjqaOsBH36",
        "colab_type": "code",
        "colab": {
          "base_uri": "https://localhost:8080/",
          "height": 50
        },
        "outputId": "3bea63b4-6a4f-45cb-e48b-446921998431"
      },
      "source": [
        "message=input(\"Write Something:\")\n",
        "if message==message[::-1]:\n",
        "  print(\"It is a palindrome\")\n",
        "else:\n",
        "  print(\"It is not a palindrome\")\n"
      ],
      "execution_count": 18,
      "outputs": [
        {
          "output_type": "stream",
          "text": [
            "Write Something:wow\n",
            "It is a palindrome\n"
          ],
          "name": "stdout"
        }
      ]
    },
    {
      "cell_type": "markdown",
      "metadata": {
        "id": "womPvFdQDiPk",
        "colab_type": "text"
      },
      "source": [
        "Write a Python's user defined function that removes all the additional characters from the string\n",
        "and converts it finally to lower case using built-in lower()."
      ]
    },
    {
      "cell_type": "code",
      "metadata": {
        "id": "P3rCHiNLDqS7",
        "colab_type": "code",
        "colab": {
          "base_uri": "https://localhost:8080/",
          "height": 50
        },
        "outputId": "f2dd6c07-88ad-40f3-9182-e062cd7f42f3"
      },
      "source": [
        "def removeAC():\n",
        "  str2=input(\"Write something:\")\n",
        "  rac=list([val for val in str2 if val.isalpha()])\n",
        "  a=\"\".join(rac)\n",
        "  b=a.lower()\n",
        "  print(\"Conversion:\",b)\n",
        "\n",
        "removeAC()"
      ],
      "execution_count": 24,
      "outputs": [
        {
          "output_type": "stream",
          "text": [
            "Write something:Puru96@gmail.com\n",
            "Conversion: purugmailcom\n"
          ],
          "name": "stdout"
        }
      ]
    }
  ]
}