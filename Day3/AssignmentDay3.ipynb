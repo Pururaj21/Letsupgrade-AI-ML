{
 "cells": [
  {
   "cell_type": "markdown",
   "metadata": {},
   "source": [
    "Subtraction of 2 complex numbers"
   ]
  },
  {
   "cell_type": "code",
   "execution_count": 1,
   "metadata": {},
   "outputs": [
    {
     "name": "stdout",
     "output_type": "stream",
     "text": [
      "Enter first number:5+6j\n",
      "Enter second number:7+8j\n",
      "Subtraction is: (-2-2j)\n"
     ]
    }
   ],
   "source": [
    "num1=complex(input(\"Enter first number:\"))\n",
    "num2=complex(input(\"Enter second number:\"))\n",
    "print(\"Subtraction is:\",num1-num2)"
   ]
  },
  {
   "cell_type": "markdown",
   "metadata": {},
   "source": [
    "fourth root of a number"
   ]
  },
  {
   "cell_type": "code",
   "execution_count": 3,
   "metadata": {},
   "outputs": [
    {
     "name": "stdout",
     "output_type": "stream",
     "text": [
      "Enter a number:16\n",
      "Fourth root of the number is: 2.0\n"
     ]
    }
   ],
   "source": [
    "n=int(input(\"Enter a number:\"))\n",
    "print(\"Fourth root of the number is:\",n**0.25)"
   ]
  },
  {
   "cell_type": "markdown",
   "metadata": {},
   "source": [
    "Swaping values of two variables using temp variable"
   ]
  },
  {
   "cell_type": "code",
   "execution_count": 4,
   "metadata": {
    "scrolled": true
   },
   "outputs": [
    {
     "name": "stdout",
     "output_type": "stream",
     "text": [
      "Enter value of X:5\n",
      "Enter value of Y:7\n",
      "Value of X: 7\n",
      "value of y: 5\n"
     ]
    }
   ],
   "source": [
    "x=int(input(\"Enter value of X:\"))\n",
    "y=int(input(\"Enter value of Y:\"))\n",
    "temp=x\n",
    "x=y\n",
    "y=temp\n",
    "print(\"Value of X:\",x)\n",
    "print(\"value of y:\",y)"
   ]
  },
  {
   "cell_type": "markdown",
   "metadata": {},
   "source": [
    "Swaping values of two variables without using temp variable"
   ]
  },
  {
   "cell_type": "code",
   "execution_count": 5,
   "metadata": {},
   "outputs": [
    {
     "name": "stdout",
     "output_type": "stream",
     "text": [
      "Enter value of first variable: 20\n",
      "Enter value of second variable: 10\n",
      "a is: 10  b is: 20\n"
     ]
    }
   ],
   "source": [
    "a=int(input(\"Enter value of first variable: \"))\n",
    "b=int(input(\"Enter value of second variable: \"))\n",
    "a=a+b\n",
    "b=a-b\n",
    "a=a-b\n",
    "print(\"a is:\",a,\" b is:\",b)"
   ]
  },
  {
   "cell_type": "markdown",
   "metadata": {},
   "source": [
    "Coverting  fahrenheit to kelvin and celsius"
   ]
  },
  {
   "cell_type": "code",
   "execution_count": 8,
   "metadata": {},
   "outputs": [
    {
     "name": "stdout",
     "output_type": "stream",
     "text": [
      "Enter temperature in farenheit:90\n",
      "Temperature in celsius: 32.22222222222222\n",
      "Temperature in kelvin: 305.37222222222226\n"
     ]
    }
   ],
   "source": [
    "f=float(input(\"Enter temperature in farenheit:\"))\n",
    "c=((f-32)*(5/9))\n",
    "k=((f+459.67)*(5/9))\n",
    "print(\"Temperature in celsius:\",c)\n",
    "print(\"Temperature in kelvin:\",k)"
   ]
  },
  {
   "cell_type": "markdown",
   "metadata": {},
   "source": [
    "Steps discussed in the session-\n",
    "1.Create a profile on github.com\n",
    "2.Create a folder according to the day(session)\n",
    "3.Save your juypter notebook in the folder.\n",
    "4.Create a new repository on github & name the repository as Letsupgrade AI/ML.\n",
    "5.Upload the folder to this github repository.\n",
    "6.Share the link on the google form provided by the letsupgrade team."
   ]
  }
 ],
 "metadata": {
  "kernelspec": {
   "display_name": "Python 3",
   "language": "python",
   "name": "python3"
  },
  "language_info": {
   "codemirror_mode": {
    "name": "ipython",
    "version": 3
   },
   "file_extension": ".py",
   "mimetype": "text/x-python",
   "name": "python",
   "nbconvert_exporter": "python",
   "pygments_lexer": "ipython3",
   "version": "3.7.6"
  }
 },
 "nbformat": 4,
 "nbformat_minor": 4
}
